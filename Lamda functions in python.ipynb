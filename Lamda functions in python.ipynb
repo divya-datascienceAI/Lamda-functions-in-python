{
 "cells": [
  {
   "cell_type": "markdown",
   "id": "bddb0d25",
   "metadata": {},
   "source": [
    "# lambda function"
   ]
  },
  {
   "cell_type": "code",
   "execution_count": 4,
   "id": "cc6d6a95",
   "metadata": {},
   "outputs": [
    {
     "name": "stdout",
     "output_type": "stream",
     "text": [
      "27\n"
     ]
    }
   ],
   "source": [
    "cube=lambda x: x*x*x\n",
    "print(cube(3))"
   ]
  },
  {
   "cell_type": "code",
   "execution_count": 6,
   "id": "fb732bd0",
   "metadata": {},
   "outputs": [
    {
     "name": "stdout",
     "output_type": "stream",
     "text": [
      "30\n",
      "15\n"
     ]
    }
   ],
   "source": [
    "maxm=lambda a,b:a if a>10 else b\n",
    "print(maxm(30,4))\n",
    "print(maxm(5,15))"
   ]
  },
  {
   "cell_type": "markdown",
   "id": "5f938cda",
   "metadata": {},
   "source": [
    "# tuple lambda"
   ]
  },
  {
   "cell_type": "code",
   "execution_count": 12,
   "id": "1a4744b5",
   "metadata": {},
   "outputs": [
    {
     "name": "stdout",
     "output_type": "stream",
     "text": [
      "(4, 8, 12, 16)\n"
     ]
    }
   ],
   "source": [
    "t=(2,4,6,8)\n",
    "mul=tuple(map(lambda x:x*2,t))\n",
    "print(mul)"
   ]
  },
  {
   "cell_type": "markdown",
   "id": "9cf78d28",
   "metadata": {},
   "source": [
    "# list lambda"
   ]
  },
  {
   "cell_type": "code",
   "execution_count": 11,
   "id": "d7d7a62e",
   "metadata": {},
   "outputs": [
    {
     "name": "stdout",
     "output_type": "stream",
     "text": [
      "[1, 8, 27, 64, 125]\n"
     ]
    }
   ],
   "source": [
    "l=[1,2,3,4,5]\n",
    "cube=list(map(lambda x:pow(x,3),l))\n",
    "print(cube)"
   ]
  },
  {
   "cell_type": "code",
   "execution_count": 17,
   "id": "4b18e8ca",
   "metadata": {},
   "outputs": [
    {
     "name": "stdout",
     "output_type": "stream",
     "text": [
      "['CARROT', 'BEANS', 'POTATO']\n"
     ]
    }
   ],
   "source": [
    "veg=['carrot','beans','potato']\n",
    "upper_veg=list(map(lambda vegi: str.upper(vegi),veg))\n",
    "print(upper_veg)"
   ]
  },
  {
   "cell_type": "code",
   "execution_count": 24,
   "id": "b56df50d",
   "metadata": {},
   "outputs": [
    {
     "name": "stdout",
     "output_type": "stream",
     "text": [
      "sum of all elements: 81\n",
      "largest element: 30\n",
      "smallest element: 1\n"
     ]
    }
   ],
   "source": [
    "from functools import reduce\n",
    "a=[10,5,12,20,1,30,3]\n",
    "sum=reduce(lambda x,y:x+y,a)\n",
    "print('sum of all elements:',sum)\n",
    "large=reduce(lambda x,y: x if x>y else y,a)\n",
    "print('largest element:',large)\n",
    "small=reduce(lambda x,y: x if x<y else y,a)\n",
    "print('smallest element:',small)"
   ]
  },
  {
   "cell_type": "code",
   "execution_count": null,
   "id": "74c0292d",
   "metadata": {},
   "outputs": [],
   "source": []
  },
  {
   "cell_type": "code",
   "execution_count": null,
   "id": "83386079",
   "metadata": {},
   "outputs": [],
   "source": []
  }
 ],
 "metadata": {
  "kernelspec": {
   "display_name": "Python 3",
   "language": "python",
   "name": "python3"
  },
  "language_info": {
   "codemirror_mode": {
    "name": "ipython",
    "version": 3
   },
   "file_extension": ".py",
   "mimetype": "text/x-python",
   "name": "python",
   "nbconvert_exporter": "python",
   "pygments_lexer": "ipython3",
   "version": "3.8.8"
  }
 },
 "nbformat": 4,
 "nbformat_minor": 5
}
